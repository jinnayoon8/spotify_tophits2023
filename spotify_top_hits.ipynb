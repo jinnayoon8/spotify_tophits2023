{
 "cells": [
  {
   "cell_type": "markdown",
   "metadata": {},
   "source": [
    "# STAT 207 Project 03 - Spotify Hits of 2023\n",
    "\n",
    "Jinna Yoon - jyoon83\n",
    "\n",
    "Renee Huang - reneeh3\n",
    "\n",
    "Sanjana Addanki- sadda3"
   ]
  },
  {
   "cell_type": "markdown",
   "metadata": {},
   "source": [
    "## 1. Introduction"
   ]
  },
  {
   "cell_type": "markdown",
   "metadata": {},
   "source": [
    "This dataset, “Most Streamed Spotify Songs 2023”, contains most of the most streamed/listened songs on Spotify (a popular music streaming platform) in 2023. Each observation/row in the dataset is a song. Some of its key features are the songs’ track name, artist(s) name, release date, Spofity playlists/charts,  and number of total streams on Spotify. This dataset also enlists some details about the song itself, including things from bpm and key/mode of the song, to ratings of danceability and energy. \n",
    "\n",
    "Spotify is one of the most popular music streaming platforms out there among Gen Z and millennial music listeners. Anyone in this age group who prefers using Spotify could be interested in seeing general statistics of the songs that they like. Or, anyone that wants to compare the data from Spotify with other music streaming platforms could be interested in looking deeper into this dataset."
   ]
  },
  {
   "cell_type": "markdown",
   "metadata": {},
   "source": [
    "Research Questions\n",
    "\n",
    "1. What is the relationship between number of total streams on Spotify (response variable) and mode (major/minor), after controlling for key, in_apple_playlists, and danceability_%? How well does this model predict number of total streams on new data? 🕺\n",
    "\n",
    "2. Is there a linear relationship between the log-odds of the songs’ mode and danceability_%, valence_%, and energy_% in the sample? How does a classifier built on this model perform on new data? We will consider 1 as Major, 0 as Minor."
   ]
  },
  {
   "cell_type": "code",
   "execution_count": 148,
   "metadata": {},
   "outputs": [],
   "source": [
    "#Imports here\n",
    "import pandas as pd\n",
    "import matplotlib.pyplot as plt\n",
    "import seaborn as sns; sns.set()\n",
    "import statsmodels.formula.api as smf\n",
    "from sklearn.model_selection import train_test_split"
   ]
  },
  {
   "cell_type": "markdown",
   "metadata": {},
   "source": [
    "### Data Cleaning"
   ]
  },
  {
   "cell_type": "code",
   "execution_count": 149,
   "metadata": {},
   "outputs": [
    {
     "data": {
      "text/html": [
       "<div>\n",
       "<style scoped>\n",
       "    .dataframe tbody tr th:only-of-type {\n",
       "        vertical-align: middle;\n",
       "    }\n",
       "\n",
       "    .dataframe tbody tr th {\n",
       "        vertical-align: top;\n",
       "    }\n",
       "\n",
       "    .dataframe thead th {\n",
       "        text-align: right;\n",
       "    }\n",
       "</style>\n",
       "<table border=\"1\" class=\"dataframe\">\n",
       "  <thead>\n",
       "    <tr style=\"text-align: right;\">\n",
       "      <th></th>\n",
       "      <th>track_name</th>\n",
       "      <th>artist(s)_name</th>\n",
       "      <th>artist_count</th>\n",
       "      <th>released_year</th>\n",
       "      <th>released_month</th>\n",
       "      <th>released_day</th>\n",
       "      <th>in_spotify_playlists</th>\n",
       "      <th>in_spotify_charts</th>\n",
       "      <th>streams</th>\n",
       "      <th>in_apple_playlists</th>\n",
       "      <th>...</th>\n",
       "      <th>bpm</th>\n",
       "      <th>key</th>\n",
       "      <th>mode</th>\n",
       "      <th>danceability_%</th>\n",
       "      <th>valence_%</th>\n",
       "      <th>energy_%</th>\n",
       "      <th>acousticness_%</th>\n",
       "      <th>instrumentalness_%</th>\n",
       "      <th>liveness_%</th>\n",
       "      <th>speechiness_%</th>\n",
       "    </tr>\n",
       "  </thead>\n",
       "  <tbody>\n",
       "    <tr>\n",
       "      <th>0</th>\n",
       "      <td>Seven (feat. Latto) (Explicit Ver.)</td>\n",
       "      <td>Latto, Jung Kook</td>\n",
       "      <td>2</td>\n",
       "      <td>2023</td>\n",
       "      <td>7</td>\n",
       "      <td>14</td>\n",
       "      <td>553</td>\n",
       "      <td>147</td>\n",
       "      <td>141381703</td>\n",
       "      <td>43</td>\n",
       "      <td>...</td>\n",
       "      <td>125</td>\n",
       "      <td>B</td>\n",
       "      <td>Major</td>\n",
       "      <td>80</td>\n",
       "      <td>89</td>\n",
       "      <td>83</td>\n",
       "      <td>31</td>\n",
       "      <td>0</td>\n",
       "      <td>8</td>\n",
       "      <td>4</td>\n",
       "    </tr>\n",
       "    <tr>\n",
       "      <th>1</th>\n",
       "      <td>LALA</td>\n",
       "      <td>Myke Towers</td>\n",
       "      <td>1</td>\n",
       "      <td>2023</td>\n",
       "      <td>3</td>\n",
       "      <td>23</td>\n",
       "      <td>1474</td>\n",
       "      <td>48</td>\n",
       "      <td>133716286</td>\n",
       "      <td>48</td>\n",
       "      <td>...</td>\n",
       "      <td>92</td>\n",
       "      <td>C#</td>\n",
       "      <td>Major</td>\n",
       "      <td>71</td>\n",
       "      <td>61</td>\n",
       "      <td>74</td>\n",
       "      <td>7</td>\n",
       "      <td>0</td>\n",
       "      <td>10</td>\n",
       "      <td>4</td>\n",
       "    </tr>\n",
       "    <tr>\n",
       "      <th>2</th>\n",
       "      <td>vampire</td>\n",
       "      <td>Olivia Rodrigo</td>\n",
       "      <td>1</td>\n",
       "      <td>2023</td>\n",
       "      <td>6</td>\n",
       "      <td>30</td>\n",
       "      <td>1397</td>\n",
       "      <td>113</td>\n",
       "      <td>140003974</td>\n",
       "      <td>94</td>\n",
       "      <td>...</td>\n",
       "      <td>138</td>\n",
       "      <td>F</td>\n",
       "      <td>Major</td>\n",
       "      <td>51</td>\n",
       "      <td>32</td>\n",
       "      <td>53</td>\n",
       "      <td>17</td>\n",
       "      <td>0</td>\n",
       "      <td>31</td>\n",
       "      <td>6</td>\n",
       "    </tr>\n",
       "    <tr>\n",
       "      <th>3</th>\n",
       "      <td>Cruel Summer</td>\n",
       "      <td>Taylor Swift</td>\n",
       "      <td>1</td>\n",
       "      <td>2019</td>\n",
       "      <td>8</td>\n",
       "      <td>23</td>\n",
       "      <td>7858</td>\n",
       "      <td>100</td>\n",
       "      <td>800840817</td>\n",
       "      <td>116</td>\n",
       "      <td>...</td>\n",
       "      <td>170</td>\n",
       "      <td>A</td>\n",
       "      <td>Major</td>\n",
       "      <td>55</td>\n",
       "      <td>58</td>\n",
       "      <td>72</td>\n",
       "      <td>11</td>\n",
       "      <td>0</td>\n",
       "      <td>11</td>\n",
       "      <td>15</td>\n",
       "    </tr>\n",
       "    <tr>\n",
       "      <th>4</th>\n",
       "      <td>WHERE SHE GOES</td>\n",
       "      <td>Bad Bunny</td>\n",
       "      <td>1</td>\n",
       "      <td>2023</td>\n",
       "      <td>5</td>\n",
       "      <td>18</td>\n",
       "      <td>3133</td>\n",
       "      <td>50</td>\n",
       "      <td>303236322</td>\n",
       "      <td>84</td>\n",
       "      <td>...</td>\n",
       "      <td>144</td>\n",
       "      <td>A</td>\n",
       "      <td>Minor</td>\n",
       "      <td>65</td>\n",
       "      <td>23</td>\n",
       "      <td>80</td>\n",
       "      <td>14</td>\n",
       "      <td>63</td>\n",
       "      <td>11</td>\n",
       "      <td>6</td>\n",
       "    </tr>\n",
       "  </tbody>\n",
       "</table>\n",
       "<p>5 rows × 24 columns</p>\n",
       "</div>"
      ],
      "text/plain": [
       "                            track_name    artist(s)_name  artist_count  \\\n",
       "0  Seven (feat. Latto) (Explicit Ver.)  Latto, Jung Kook             2   \n",
       "1                                 LALA       Myke Towers             1   \n",
       "2                              vampire    Olivia Rodrigo             1   \n",
       "3                         Cruel Summer      Taylor Swift             1   \n",
       "4                       WHERE SHE GOES         Bad Bunny             1   \n",
       "\n",
       "   released_year  released_month  released_day  in_spotify_playlists  \\\n",
       "0           2023               7            14                   553   \n",
       "1           2023               3            23                  1474   \n",
       "2           2023               6            30                  1397   \n",
       "3           2019               8            23                  7858   \n",
       "4           2023               5            18                  3133   \n",
       "\n",
       "   in_spotify_charts    streams  in_apple_playlists  ...  bpm key   mode  \\\n",
       "0                147  141381703                  43  ...  125   B  Major   \n",
       "1                 48  133716286                  48  ...   92  C#  Major   \n",
       "2                113  140003974                  94  ...  138   F  Major   \n",
       "3                100  800840817                 116  ...  170   A  Major   \n",
       "4                 50  303236322                  84  ...  144   A  Minor   \n",
       "\n",
       "  danceability_%  valence_% energy_% acousticness_%  instrumentalness_%  \\\n",
       "0             80         89       83             31                   0   \n",
       "1             71         61       74              7                   0   \n",
       "2             51         32       53             17                   0   \n",
       "3             55         58       72             11                   0   \n",
       "4             65         23       80             14                  63   \n",
       "\n",
       "   liveness_%  speechiness_%  \n",
       "0           8              4  \n",
       "1          10              4  \n",
       "2          31              6  \n",
       "3          11             15  \n",
       "4          11              6  \n",
       "\n",
       "[5 rows x 24 columns]"
      ]
     },
     "execution_count": 149,
     "metadata": {},
     "output_type": "execute_result"
    }
   ],
   "source": [
    "na_values = ['nan']\n",
    "df_old = pd.read_csv('spotify-2023.csv', encoding='latin-1', na_values = na_values)\n",
    "df_old.head()"
   ]
  },
  {
   "cell_type": "code",
   "execution_count": 150,
   "metadata": {},
   "outputs": [
    {
     "data": {
      "text/html": [
       "<div>\n",
       "<style scoped>\n",
       "    .dataframe tbody tr th:only-of-type {\n",
       "        vertical-align: middle;\n",
       "    }\n",
       "\n",
       "    .dataframe tbody tr th {\n",
       "        vertical-align: top;\n",
       "    }\n",
       "\n",
       "    .dataframe thead th {\n",
       "        text-align: right;\n",
       "    }\n",
       "</style>\n",
       "<table border=\"1\" class=\"dataframe\">\n",
       "  <thead>\n",
       "    <tr style=\"text-align: right;\">\n",
       "      <th></th>\n",
       "      <th>track_name</th>\n",
       "      <th>artist(s)_name</th>\n",
       "      <th>artist_count</th>\n",
       "      <th>released_year</th>\n",
       "      <th>released_month</th>\n",
       "      <th>released_day</th>\n",
       "      <th>in_spotify_playlists</th>\n",
       "      <th>in_spotify_charts</th>\n",
       "      <th>streams</th>\n",
       "      <th>in_apple_playlists</th>\n",
       "      <th>...</th>\n",
       "      <th>bpm</th>\n",
       "      <th>key</th>\n",
       "      <th>mode</th>\n",
       "      <th>danceability_pct</th>\n",
       "      <th>valence_pct</th>\n",
       "      <th>energy_pct</th>\n",
       "      <th>acousticness_pct</th>\n",
       "      <th>instrumentalness_pct</th>\n",
       "      <th>liveness_pct</th>\n",
       "      <th>speechiness_pct</th>\n",
       "    </tr>\n",
       "  </thead>\n",
       "  <tbody>\n",
       "    <tr>\n",
       "      <th>0</th>\n",
       "      <td>Seven (feat. Latto) (Explicit Ver.)</td>\n",
       "      <td>Latto, Jung Kook</td>\n",
       "      <td>2</td>\n",
       "      <td>2023</td>\n",
       "      <td>7</td>\n",
       "      <td>14</td>\n",
       "      <td>553</td>\n",
       "      <td>147</td>\n",
       "      <td>141381703</td>\n",
       "      <td>43</td>\n",
       "      <td>...</td>\n",
       "      <td>125</td>\n",
       "      <td>B</td>\n",
       "      <td>Major</td>\n",
       "      <td>80</td>\n",
       "      <td>89</td>\n",
       "      <td>83</td>\n",
       "      <td>31</td>\n",
       "      <td>0</td>\n",
       "      <td>8</td>\n",
       "      <td>4</td>\n",
       "    </tr>\n",
       "    <tr>\n",
       "      <th>1</th>\n",
       "      <td>LALA</td>\n",
       "      <td>Myke Towers</td>\n",
       "      <td>1</td>\n",
       "      <td>2023</td>\n",
       "      <td>3</td>\n",
       "      <td>23</td>\n",
       "      <td>1474</td>\n",
       "      <td>48</td>\n",
       "      <td>133716286</td>\n",
       "      <td>48</td>\n",
       "      <td>...</td>\n",
       "      <td>92</td>\n",
       "      <td>C#</td>\n",
       "      <td>Major</td>\n",
       "      <td>71</td>\n",
       "      <td>61</td>\n",
       "      <td>74</td>\n",
       "      <td>7</td>\n",
       "      <td>0</td>\n",
       "      <td>10</td>\n",
       "      <td>4</td>\n",
       "    </tr>\n",
       "    <tr>\n",
       "      <th>2</th>\n",
       "      <td>vampire</td>\n",
       "      <td>Olivia Rodrigo</td>\n",
       "      <td>1</td>\n",
       "      <td>2023</td>\n",
       "      <td>6</td>\n",
       "      <td>30</td>\n",
       "      <td>1397</td>\n",
       "      <td>113</td>\n",
       "      <td>140003974</td>\n",
       "      <td>94</td>\n",
       "      <td>...</td>\n",
       "      <td>138</td>\n",
       "      <td>F</td>\n",
       "      <td>Major</td>\n",
       "      <td>51</td>\n",
       "      <td>32</td>\n",
       "      <td>53</td>\n",
       "      <td>17</td>\n",
       "      <td>0</td>\n",
       "      <td>31</td>\n",
       "      <td>6</td>\n",
       "    </tr>\n",
       "    <tr>\n",
       "      <th>3</th>\n",
       "      <td>Cruel Summer</td>\n",
       "      <td>Taylor Swift</td>\n",
       "      <td>1</td>\n",
       "      <td>2019</td>\n",
       "      <td>8</td>\n",
       "      <td>23</td>\n",
       "      <td>7858</td>\n",
       "      <td>100</td>\n",
       "      <td>800840817</td>\n",
       "      <td>116</td>\n",
       "      <td>...</td>\n",
       "      <td>170</td>\n",
       "      <td>A</td>\n",
       "      <td>Major</td>\n",
       "      <td>55</td>\n",
       "      <td>58</td>\n",
       "      <td>72</td>\n",
       "      <td>11</td>\n",
       "      <td>0</td>\n",
       "      <td>11</td>\n",
       "      <td>15</td>\n",
       "    </tr>\n",
       "    <tr>\n",
       "      <th>4</th>\n",
       "      <td>WHERE SHE GOES</td>\n",
       "      <td>Bad Bunny</td>\n",
       "      <td>1</td>\n",
       "      <td>2023</td>\n",
       "      <td>5</td>\n",
       "      <td>18</td>\n",
       "      <td>3133</td>\n",
       "      <td>50</td>\n",
       "      <td>303236322</td>\n",
       "      <td>84</td>\n",
       "      <td>...</td>\n",
       "      <td>144</td>\n",
       "      <td>A</td>\n",
       "      <td>Minor</td>\n",
       "      <td>65</td>\n",
       "      <td>23</td>\n",
       "      <td>80</td>\n",
       "      <td>14</td>\n",
       "      <td>63</td>\n",
       "      <td>11</td>\n",
       "      <td>6</td>\n",
       "    </tr>\n",
       "  </tbody>\n",
       "</table>\n",
       "<p>5 rows × 24 columns</p>\n",
       "</div>"
      ],
      "text/plain": [
       "                            track_name    artist(s)_name  artist_count  \\\n",
       "0  Seven (feat. Latto) (Explicit Ver.)  Latto, Jung Kook             2   \n",
       "1                                 LALA       Myke Towers             1   \n",
       "2                              vampire    Olivia Rodrigo             1   \n",
       "3                         Cruel Summer      Taylor Swift             1   \n",
       "4                       WHERE SHE GOES         Bad Bunny             1   \n",
       "\n",
       "   released_year  released_month  released_day  in_spotify_playlists  \\\n",
       "0           2023               7            14                   553   \n",
       "1           2023               3            23                  1474   \n",
       "2           2023               6            30                  1397   \n",
       "3           2019               8            23                  7858   \n",
       "4           2023               5            18                  3133   \n",
       "\n",
       "   in_spotify_charts    streams  in_apple_playlists  ...  bpm key   mode  \\\n",
       "0                147  141381703                  43  ...  125   B  Major   \n",
       "1                 48  133716286                  48  ...   92  C#  Major   \n",
       "2                113  140003974                  94  ...  138   F  Major   \n",
       "3                100  800840817                 116  ...  170   A  Major   \n",
       "4                 50  303236322                  84  ...  144   A  Minor   \n",
       "\n",
       "  danceability_pct  valence_pct energy_pct acousticness_pct  \\\n",
       "0               80           89         83               31   \n",
       "1               71           61         74                7   \n",
       "2               51           32         53               17   \n",
       "3               55           58         72               11   \n",
       "4               65           23         80               14   \n",
       "\n",
       "   instrumentalness_pct  liveness_pct  speechiness_pct  \n",
       "0                     0             8                4  \n",
       "1                     0            10                4  \n",
       "2                     0            31                6  \n",
       "3                     0            11               15  \n",
       "4                    63            11                6  \n",
       "\n",
       "[5 rows x 24 columns]"
      ]
     },
     "execution_count": 150,
     "metadata": {},
     "output_type": "execute_result"
    }
   ],
   "source": [
    "df = df_old.copy()\n",
    "df.columns = [col.replace('%', 'pct') for col in df.columns]\n",
    "df.head()"
   ]
  },
  {
   "cell_type": "code",
   "execution_count": 151,
   "metadata": {},
   "outputs": [
    {
     "data": {
      "text/plain": [
       "track_name               0\n",
       "artist(s)_name           0\n",
       "artist_count             0\n",
       "released_year            0\n",
       "released_month           0\n",
       "released_day             0\n",
       "in_spotify_playlists     0\n",
       "in_spotify_charts        0\n",
       "streams                  0\n",
       "in_apple_playlists       0\n",
       "in_apple_charts          0\n",
       "in_deezer_playlists      0\n",
       "in_deezer_charts         0\n",
       "in_shazam_charts        50\n",
       "bpm                      0\n",
       "key                     95\n",
       "mode                     0\n",
       "danceability_pct         0\n",
       "valence_pct              0\n",
       "energy_pct               0\n",
       "acousticness_pct         0\n",
       "instrumentalness_pct     0\n",
       "liveness_pct             0\n",
       "speechiness_pct          0\n",
       "dtype: int64"
      ]
     },
     "execution_count": 151,
     "metadata": {},
     "output_type": "execute_result"
    }
   ],
   "source": [
    "df.isna().sum()"
   ]
  },
  {
   "cell_type": "code",
   "execution_count": 152,
   "metadata": {},
   "outputs": [],
   "source": [
    "df = df.dropna()"
   ]
  },
  {
   "cell_type": "code",
   "execution_count": 153,
   "metadata": {},
   "outputs": [],
   "source": [
    "df = df[df['streams'] != 'BPM110KeyAModeMajorDanceability53Valence75Energy69Acousticness7Instrumentalness0Liveness17Speechiness3']"
   ]
  },
  {
   "cell_type": "code",
   "execution_count": 154,
   "metadata": {},
   "outputs": [
    {
     "data": {
      "text/plain": [
       "array(['141381703', '133716286', '140003974', '800840817', '303236322',\n",
       "       '183706234', '725980112', '58149378', '95217315', '553634067',\n",
       "       '505671438', '58255150', '387570742', '1163093654', '496795686',\n",
       "       '335222234', '363369738', '86444842', '52135248', '200647221',\n",
       "       '115364561', '78300654', '899183384', '61245289', '429829812',\n",
       "       '127408954', '22581161', '52294266', '843957510', '999748277',\n",
       "       '618990393', '188933502', '1355959075', '786181836', '176553476',\n",
       "       '354495408', '2808096550', '1109433169', '1047101291', '570515054',\n",
       "       '1647990401', '2565529693', '518745108', '107753850', '177740666',\n",
       "       '153372011', '57876440', '256483385', '1214083358', '111947664',\n",
       "       '156338624', '720434240', '357925728', '674072710', '1755214421',\n",
       "       '404562836', '373199958', '14780425', '39578178', '54266102',\n",
       "       '751134527', '1356565093', '1592909789', '635412045', '1230675890',\n",
       "       '585695368', '43857627', '2009094673', '600976848', '39709092',\n",
       "       '39228929', '2665343922', '223633238', '1440757818', '165484133',\n",
       "       '58054811', '157058870', '95131998', '250305248', '685032533',\n",
       "       '38411956', '144565150', '127567540', '399686758', '983637508',\n",
       "       '118482347', '882831184', '286400165', '172825906', '1241559043',\n",
       "       '29562220', '77309611', '1605224506', '1116995633', '838079900',\n",
       "       '1163620694', '1093605526', '179659294', '39058561', '36912123',\n",
       "       '1205951614', '1791000570', '201660859', '248088961', '90839753',\n",
       "       '607123776', '55842345', '211050784', '342897938', '2762',\n",
       "       '601863821', '1953533826', '2355719893', '66902503', '96273746',\n",
       "       '430977451', '284819874', '721975598', '276259178', '54225632',\n",
       "       '2559529074', '681583126', '2594040133', '81102253', '11956641',\n",
       "       '1687664027', '611700552', '1133865788', '1089402494', '411747614',\n",
       "       '255932395', '31873544', '233801632', '1481349984', '142095275',\n",
       "       '2011464183', '436027885', '2713922350', '621660989', '950906471',\n",
       "       '1593270737', '1410088830', '1235005533', '1374581173', '94186466',\n",
       "       '1788326445', '1840364617', '143573775', '684675814', '1113838873',\n",
       "       '1267333350', '3562543890', '1271293243', '265882712', '841749534',\n",
       "       '47956378', '806397070', '1641426668', '2135158446', '367316268',\n",
       "       '350381515', '1264310836', '30343206', '405136812', '540654286',\n",
       "       '57312735', '397582059', '1479115056', '86773632', '133753727',\n",
       "       '123124076', '463564958', '64533040', '65496046', '68616963',\n",
       "       '161460990', '70106975', '113509496', '89933133', '71007139',\n",
       "       '43522589', '232896922', '37126685', '195576623', '532336353',\n",
       "       '538115192', '46142772', '401036314', '127026613', '345031710',\n",
       "       '288101651', '60350538', '335074782', '76767396', '46065667',\n",
       "       '459276435', '39666245', '138517666', '822633917', '595900742',\n",
       "       '51985779', '57945987', '115010040', '175097833', '57089066',\n",
       "       '488386797', '32761689', '1047480053', '153454328', '217672943',\n",
       "       '457184829', '726434358', '573633020', '1406111294', '71573339',\n",
       "       '24975653', '145458418', '1424589568', '231332117', '415932686',\n",
       "       '988515741', '50847624', '39893489', '92035115', '118810253',\n",
       "       '77233241', '117747907', '266624541', '293186992', '139681964',\n",
       "       '123132751', '103762518', '162887075', '91221625', '190490915',\n",
       "       '96180277', '185240616', '885093467', '104992946', '147290338',\n",
       "       '158950978', '76910644', '137123880', '782369383', '502574952',\n",
       "       '207033255', '381161027', '466231982', '357580552', '61105704',\n",
       "       '198275403', '705469769', '34502215', '304118600', '1449799467',\n",
       "       '173627354', '90025258', '652704649', '1829992958', '655466831',\n",
       "       '146409671', '95816024', '117206995', '100409613', '80758350',\n",
       "       '325592432', '58473276', '52722996', '191945597', '77377503',\n",
       "       '743693613', '267789608', '449701773', '67070410', '116334601',\n",
       "       '165584767', '367814306', '477033549', '156214700', '448843705',\n",
       "       '294352144', '972164968', '920045682', '2420461338', '244658767',\n",
       "       '68216992', '223582566', '471819764', '1361425037', '116599790',\n",
       "       '148469433', '497225336', '88791109', '125917280', '105062254',\n",
       "       '95623148', '144584800', '298063749', '166570053', '83021468',\n",
       "       '139836056', '303216294', '221409663', '58890931', '81419389',\n",
       "       '156777415', '284908316', '93438910', '363472647', '372476382',\n",
       "       '56533272', '175399345', '203221468', '1624165576', '134294498',\n",
       "       '70069745', '609293408', '671365962', '93587665', '1223481149',\n",
       "       '1022258230', '263453310', '1435127549', '236857112', '147538971',\n",
       "       '698086140', '723894473', '403097450', '309483971', '319566866',\n",
       "       '909001996', '1061966512', '124988687', '134255790', '301051721',\n",
       "       '309653982', '297328960', '332506354', '480507035', '1065580332',\n",
       "       '122763672', '1365184', '184308753', '606361689', '120972253',\n",
       "       '338564981', '1606986953', '1301799902', '140187018', '107642809',\n",
       "       '556585270', '2303033973', '646886885', '872137015', '571386359',\n",
       "       '174006928', '284785823', '163284000', '246390068', '482257456',\n",
       "       '168684524', '78489819', '195516622', '1260594497', '428685680',\n",
       "       '1024858327', '838586769', '199386237', '972509632', '213438580',\n",
       "       '210038833', '227918678', '826623384', '1802514301', '181831132',\n",
       "       '462791599', '348647203', '90598517', '807561936', '663832097',\n",
       "       '446390129', '485285717', '520034544', '476244795', '629173063',\n",
       "       '404664135', '98709329', '110849052', '460492795', '94005786',\n",
       "       '389771964', '403939487', '110073250', '351636786', '473248298',\n",
       "       '73981293', '155653938', '395591396', '429504768', '242767149',\n",
       "       '65362788', '67540165', '62019074', '295998468', '136689549',\n",
       "       '135611421', '356709897', '110649992', '301869854', '127027715',\n",
       "       '57144458', '56870689', '323437194', '317726339', '116144341',\n",
       "       '328207708', '608228647', '180577478', '809306935', '49262961',\n",
       "       '614555082', '245350949', '178660459', '51641685', '78139948',\n",
       "       '322336177', '391251368', '349585590', '674772936', '119238316',\n",
       "       '116903579', '888046992', '130655803', '88103848', '101114984',\n",
       "       '1575467011', '91656026', '53933526', '267758538', '74601456',\n",
       "       '920797189', '539595276', '1367810478', '578207856', '775542072',\n",
       "       '656013912', '240684449', '63803529', '466214729', '236940480',\n",
       "       '41924466', '225259194', '393230256', '287201015', '599770206',\n",
       "       '342779426', '673801126', '1168642797', '383550148', '530511203',\n",
       "       '510876816', '1763363713', '374191487', '108809090', '436695353',\n",
       "       '354065229', '1143647827', '311395144', '672656250', '1256880657',\n",
       "       '245095641', '686734357', '261414174', '610045621', '1115880852',\n",
       "       '594482982', '566954746', '184937148', '31959571', '824420218',\n",
       "       '363467642', '1127468248', '60680939', '247737946', '154797871',\n",
       "       '124407432', '850608354', '376333030', '516784627', '1608045237',\n",
       "       '506778838', '1472799873', '513643924', '261286503', '783706581',\n",
       "       '422691058', '1062345656', '851070493', '263894529', '345903614',\n",
       "       '956865266', '427486004', '156658366', '624515457', '777765388',\n",
       "       '1138474110', '355219175', '290228626', '1062956628', '1180094974',\n",
       "       '1456081449', '432702334', '489945871', '465959382', '2288695111',\n",
       "       '720825549', '2086124197', '1690192927', '593917618', '200972675',\n",
       "       '71014967', '560222750', '1806617704', '77337771', '528544703',\n",
       "       '865640097', '2159346687', '211372494', '651732901', '608334048',\n",
       "       '863756573', '797402345', '1695712020', '1759567999', '223319934',\n",
       "       '54937991', '258316038', '596152090', '177129919', '716591492',\n",
       "       '1210599487', '246376690', '496311364', '843309044', '500340342',\n",
       "       '107255472', '135079152', '822239726', '1202722675', '343197054',\n",
       "       '240769997', '426204830', '421135627', '554875730', '327498031',\n",
       "       '185408548', '245400167', '579395142', '675039469', '252871192',\n",
       "       '231996128', '1929770265', '918915401', '1180896317', '498960285',\n",
       "       '258714692', '143139338', '209768491', '64714573', '50746620',\n",
       "       '154119539', '181328253', '370068639', '2280566092', '563902868',\n",
       "       '317622165', '203680270', '81350745', '282883169', '64787943',\n",
       "       '2484812918', '461437791', '1439191367', '759208783', '368646862',\n",
       "       '299634472', '756907987', '682475162', '546191065', '229473310',\n",
       "       '202677468', '208166039', '527033089', '94616487', '394030335',\n",
       "       '193443895', '299648208', '319757142', '153240879', '346127840',\n",
       "       '312622938', '1200808494', '797196073', '1970673297', '665765558',\n",
       "       '263779030', '339473453', '2204080728', '2591224264', '135444283',\n",
       "       '236872197', '694525298', '421365166', '349746291', '255120451',\n",
       "       '190981339', '924193303', '305771063', '273005485', '89566512',\n",
       "       '677389855', '75476209', '408843328', '187772591', '178512385',\n",
       "       '101780047', '146363130', '126443991', '157990698', '176290831',\n",
       "       '1023187129', '106933107', '139193812', '212234990', '1714490998',\n",
       "       '197643795', '807015863', '933815613', '499710590', '120847157',\n",
       "       '53909146', '2236667932', '2123309722', '301242089', '237351106',\n",
       "       '461558540', '156898322', '127309180', '173702135', '305650299',\n",
       "       '123216717', '479655659', '126191104', '344055883', '338422004',\n",
       "       '68895644', '86176890', '403231558', '319546754', '61739839',\n",
       "       '283359161', '76831876', '283332261', '307752576', '279737940',\n",
       "       '212351890', '1304313953', '150500965', '246127838', '582863434',\n",
       "       '58687425', '212109195', '382199619', '41210087', '231657891',\n",
       "       '53729194', '244741137', '42485571', '37778188', '254218729',\n",
       "       '53603447', '160035717', '37091576', '284249832', '33381454',\n",
       "       '184622518', '300983101', '121077868', '106919680', '136996305',\n",
       "       '65719930', '229497852', '185550869', '54682594', '240580042',\n",
       "       '1284942608', '71423324', '244891912', '132171975', '184706613',\n",
       "       '184826429', '302006641', '330881149', '334733572', '366214458',\n",
       "       '114546317', '448500832', '136676504', '190625045', '79095270',\n",
       "       '273194684', '333146475', '194902696', '195918494', '248511839',\n",
       "       '233671263', '199587884', '91781263', '383835984', '236060709',\n",
       "       '189236868', '160845341', '588955257', '238350348', '187703102',\n",
       "       '138334433', '445590495', '286739476', '1122364376', '157136970',\n",
       "       '183273246', '164856284', '704171068', '354614964', '279717388',\n",
       "       '195628667', '221752937', '263280370', '213505179', '130419412',\n",
       "       '155795783', '1553497987', '293466523', '191448892', '85924992',\n",
       "       '176103902', '121189256', '131746175', '244790012', '129314708',\n",
       "       '331511413', '170732845', '179061440', '185236961', '171788484',\n",
       "       '387080183', '264717480', '244928911', '97610446', '287278853',\n",
       "       '887906111', '123473120', '323455692', '240918092', '191873381',\n",
       "       '239411309', '703301727', '189476119', '277132266', '278920007',\n",
       "       '222410722', '185392587', '202452860', '1608164312', '624101957',\n",
       "       '148461629', '47093942', '380319238', '209106362', '53987404',\n",
       "       '115331792', '225093344', '84697729', '159240673', '170709584',\n",
       "       '154356956', '723043854', '247689123', '176474912', '235549288',\n",
       "       '85559365', '146223492', '187701588', '154863153', '191333656',\n",
       "       '253650850', '223064273', '170413877', '218320587', '141720999',\n",
       "       '198365537', '177503916', '71095708', '112436403', '203436468',\n",
       "       '93367537', '106249219', '181382590', '91473363', '121871870',\n",
       "       '73513683', '133895612', '96007391'], dtype=object)"
      ]
     },
     "execution_count": 154,
     "metadata": {},
     "output_type": "execute_result"
    }
   ],
   "source": [
    "df['streams'].unique()"
   ]
  },
  {
   "cell_type": "code",
   "execution_count": 155,
   "metadata": {},
   "outputs": [],
   "source": [
    "df['streams'] = pd.to_numeric(df['streams'])\n",
    "df['streams'] = df['streams'].astype('int64')"
   ]
  },
  {
   "cell_type": "markdown",
   "metadata": {},
   "source": [
    "I ran into some trouble with converting the 'streams' variable from an object to an integar because of multiple errors. Here, I used this code to make streams into a numeric value and as type integar 64 to account for the 'large size integar' error that kept recurring."
   ]
  },
  {
   "cell_type": "code",
   "execution_count": 156,
   "metadata": {},
   "outputs": [
    {
     "data": {
      "text/plain": [
       "track_name              0\n",
       "artist(s)_name          0\n",
       "artist_count            0\n",
       "released_year           0\n",
       "released_month          0\n",
       "released_day            0\n",
       "in_spotify_playlists    0\n",
       "in_spotify_charts       0\n",
       "streams                 0\n",
       "in_apple_playlists      0\n",
       "in_apple_charts         0\n",
       "in_deezer_playlists     0\n",
       "in_deezer_charts        0\n",
       "in_shazam_charts        0\n",
       "bpm                     0\n",
       "key                     0\n",
       "mode                    0\n",
       "danceability_pct        0\n",
       "valence_pct             0\n",
       "energy_pct              0\n",
       "acousticness_pct        0\n",
       "instrumentalness_pct    0\n",
       "liveness_pct            0\n",
       "speechiness_pct         0\n",
       "dtype: int64"
      ]
     },
     "execution_count": 156,
     "metadata": {},
     "output_type": "execute_result"
    }
   ],
   "source": [
    "df.isna().sum()"
   ]
  },
  {
   "cell_type": "code",
   "execution_count": 157,
   "metadata": {},
   "outputs": [
    {
     "data": {
      "text/plain": [
       "track_name              object\n",
       "artist(s)_name          object\n",
       "artist_count             int64\n",
       "released_year            int64\n",
       "released_month           int64\n",
       "released_day             int64\n",
       "in_spotify_playlists     int64\n",
       "in_spotify_charts        int64\n",
       "streams                  int64\n",
       "in_apple_playlists       int64\n",
       "in_apple_charts          int64\n",
       "in_deezer_playlists     object\n",
       "in_deezer_charts         int64\n",
       "in_shazam_charts        object\n",
       "bpm                      int64\n",
       "key                     object\n",
       "mode                    object\n",
       "danceability_pct         int64\n",
       "valence_pct              int64\n",
       "energy_pct               int64\n",
       "acousticness_pct         int64\n",
       "instrumentalness_pct     int64\n",
       "liveness_pct             int64\n",
       "speechiness_pct          int64\n",
       "dtype: object"
      ]
     },
     "execution_count": 157,
     "metadata": {},
     "output_type": "execute_result"
    }
   ],
   "source": [
    "df.dtypes"
   ]
  },
  {
   "cell_type": "markdown",
   "metadata": {},
   "source": [
    "## 2. Linear Regression"
   ]
  },
  {
   "cell_type": "markdown",
   "metadata": {},
   "source": [
    "Research question: What is the relationship between number of total streams on Spotify (response variable) and mode (major/minor), after controlling for key, in_apple_playlists, and danceability_%? How well does this model predict number of total streams on new data?"
   ]
  },
  {
   "cell_type": "code",
   "execution_count": 158,
   "metadata": {},
   "outputs": [
    {
     "name": "stdout",
     "output_type": "stream",
     "text": [
      "0.7990196078431373\n"
     ]
    }
   ],
   "source": [
    "df_train, df_test = train_test_split(df, test_size = 0.20, random_state = 207)\n",
    "print(df_train.shape[0]/df.shape[0])"
   ]
  },
  {
   "cell_type": "code",
   "execution_count": 159,
   "metadata": {},
   "outputs": [
    {
     "data": {
      "text/html": [
       "<table class=\"simpletable\">\n",
       "<caption>OLS Regression Results</caption>\n",
       "<tr>\n",
       "  <th>Dep. Variable:</th>         <td>streams</td>     <th>  R-squared:         </th> <td>   0.549</td> \n",
       "</tr>\n",
       "<tr>\n",
       "  <th>Model:</th>                   <td>OLS</td>       <th>  Adj. R-squared:    </th> <td>   0.540</td> \n",
       "</tr>\n",
       "<tr>\n",
       "  <th>Method:</th>             <td>Least Squares</td>  <th>  F-statistic:       </th> <td>   59.69</td> \n",
       "</tr>\n",
       "<tr>\n",
       "  <th>Date:</th>             <td>Tue, 23 Apr 2024</td> <th>  Prob (F-statistic):</th> <td>4.52e-101</td>\n",
       "</tr>\n",
       "<tr>\n",
       "  <th>Time:</th>                 <td>00:35:42</td>     <th>  Log-Likelihood:    </th> <td> -13753.</td> \n",
       "</tr>\n",
       "<tr>\n",
       "  <th>No. Observations:</th>      <td>   652</td>      <th>  AIC:               </th> <td>2.753e+04</td>\n",
       "</tr>\n",
       "<tr>\n",
       "  <th>Df Residuals:</th>          <td>   638</td>      <th>  BIC:               </th> <td>2.760e+04</td>\n",
       "</tr>\n",
       "<tr>\n",
       "  <th>Df Model:</th>              <td>    13</td>      <th>                     </th>     <td> </td>    \n",
       "</tr>\n",
       "<tr>\n",
       "  <th>Covariance Type:</th>      <td>nonrobust</td>    <th>                     </th>     <td> </td>    \n",
       "</tr>\n",
       "</table>\n",
       "<table class=\"simpletable\">\n",
       "<tr>\n",
       "           <td></td>             <th>coef</th>     <th>std err</th>      <th>t</th>      <th>P>|t|</th>  <th>[0.025</th>    <th>0.975]</th>  \n",
       "</tr>\n",
       "<tr>\n",
       "  <th>Intercept</th>          <td>  3.14e+08</td> <td> 7.94e+07</td> <td>    3.953</td> <td> 0.000</td> <td> 1.58e+08</td> <td>  4.7e+08</td>\n",
       "</tr>\n",
       "<tr>\n",
       "  <th>mode[T.Minor]</th>      <td>-1.408e+06</td> <td>    3e+07</td> <td>   -0.047</td> <td> 0.963</td> <td>-6.04e+07</td> <td> 5.76e+07</td>\n",
       "</tr>\n",
       "<tr>\n",
       "  <th>key[T.A#]</th>          <td> 5.107e+07</td> <td>  7.1e+07</td> <td>    0.719</td> <td> 0.472</td> <td>-8.84e+07</td> <td> 1.91e+08</td>\n",
       "</tr>\n",
       "<tr>\n",
       "  <th>key[T.B]</th>           <td> 8.547e+06</td> <td> 6.71e+07</td> <td>    0.127</td> <td> 0.899</td> <td>-1.23e+08</td> <td>  1.4e+08</td>\n",
       "</tr>\n",
       "<tr>\n",
       "  <th>key[T.C#]</th>          <td> 5.469e+07</td> <td> 6.08e+07</td> <td>    0.900</td> <td> 0.368</td> <td>-6.46e+07</td> <td> 1.74e+08</td>\n",
       "</tr>\n",
       "<tr>\n",
       "  <th>key[T.D]</th>           <td>-6.542e+06</td> <td> 6.59e+07</td> <td>   -0.099</td> <td> 0.921</td> <td>-1.36e+08</td> <td> 1.23e+08</td>\n",
       "</tr>\n",
       "<tr>\n",
       "  <th>key[T.D#]</th>          <td> 7.535e+06</td> <td>  8.5e+07</td> <td>    0.089</td> <td> 0.929</td> <td>-1.59e+08</td> <td> 1.74e+08</td>\n",
       "</tr>\n",
       "<tr>\n",
       "  <th>key[T.E]</th>           <td> 4.992e+07</td> <td> 7.08e+07</td> <td>    0.705</td> <td> 0.481</td> <td>-8.91e+07</td> <td> 1.89e+08</td>\n",
       "</tr>\n",
       "<tr>\n",
       "  <th>key[T.F]</th>           <td> 5.601e+07</td> <td> 6.38e+07</td> <td>    0.877</td> <td> 0.381</td> <td>-6.93e+07</td> <td> 1.81e+08</td>\n",
       "</tr>\n",
       "<tr>\n",
       "  <th>key[T.F#]</th>          <td>  -4.1e+07</td> <td> 6.53e+07</td> <td>   -0.628</td> <td> 0.530</td> <td>-1.69e+08</td> <td> 8.72e+07</td>\n",
       "</tr>\n",
       "<tr>\n",
       "  <th>key[T.G]</th>           <td>-2.636e+07</td> <td> 6.11e+07</td> <td>   -0.431</td> <td> 0.666</td> <td>-1.46e+08</td> <td> 9.36e+07</td>\n",
       "</tr>\n",
       "<tr>\n",
       "  <th>key[T.G#]</th>          <td>-3.033e+07</td> <td> 6.29e+07</td> <td>   -0.482</td> <td> 0.630</td> <td>-1.54e+08</td> <td> 9.32e+07</td>\n",
       "</tr>\n",
       "<tr>\n",
       "  <th>in_apple_playlists</th> <td> 5.053e+06</td> <td> 1.86e+05</td> <td>   27.211</td> <td> 0.000</td> <td> 4.69e+06</td> <td> 5.42e+06</td>\n",
       "</tr>\n",
       "<tr>\n",
       "  <th>danceability_pct</th>   <td>-2.421e+06</td> <td> 9.89e+05</td> <td>   -2.448</td> <td> 0.015</td> <td>-4.36e+06</td> <td>-4.79e+05</td>\n",
       "</tr>\n",
       "</table>\n",
       "<table class=\"simpletable\">\n",
       "<tr>\n",
       "  <th>Omnibus:</th>       <td>401.924</td> <th>  Durbin-Watson:     </th> <td>   1.936</td>\n",
       "</tr>\n",
       "<tr>\n",
       "  <th>Prob(Omnibus):</th> <td> 0.000</td>  <th>  Jarque-Bera (JB):  </th> <td>6635.344</td>\n",
       "</tr>\n",
       "<tr>\n",
       "  <th>Skew:</th>          <td> 2.434</td>  <th>  Prob(JB):          </th> <td>    0.00</td>\n",
       "</tr>\n",
       "<tr>\n",
       "  <th>Kurtosis:</th>      <td>17.851</td>  <th>  Cond. No.          </th> <td>1.26e+03</td>\n",
       "</tr>\n",
       "</table><br/><br/>Notes:<br/>[1] Standard Errors assume that the covariance matrix of the errors is correctly specified.<br/>[2] The condition number is large, 1.26e+03. This might indicate that there are<br/>strong multicollinearity or other numerical problems."
      ],
      "text/latex": [
       "\\begin{center}\n",
       "\\begin{tabular}{lclc}\n",
       "\\toprule\n",
       "\\textbf{Dep. Variable:}       &     streams      & \\textbf{  R-squared:         } &     0.549   \\\\\n",
       "\\textbf{Model:}               &       OLS        & \\textbf{  Adj. R-squared:    } &     0.540   \\\\\n",
       "\\textbf{Method:}              &  Least Squares   & \\textbf{  F-statistic:       } &     59.69   \\\\\n",
       "\\textbf{Date:}                & Tue, 23 Apr 2024 & \\textbf{  Prob (F-statistic):} & 4.52e-101   \\\\\n",
       "\\textbf{Time:}                &     00:35:42     & \\textbf{  Log-Likelihood:    } &   -13753.   \\\\\n",
       "\\textbf{No. Observations:}    &         652      & \\textbf{  AIC:               } & 2.753e+04   \\\\\n",
       "\\textbf{Df Residuals:}        &         638      & \\textbf{  BIC:               } & 2.760e+04   \\\\\n",
       "\\textbf{Df Model:}            &          13      & \\textbf{                     } &             \\\\\n",
       "\\textbf{Covariance Type:}     &    nonrobust     & \\textbf{                     } &             \\\\\n",
       "\\bottomrule\n",
       "\\end{tabular}\n",
       "\\begin{tabular}{lcccccc}\n",
       "                              & \\textbf{coef} & \\textbf{std err} & \\textbf{t} & \\textbf{P$> |$t$|$} & \\textbf{[0.025} & \\textbf{0.975]}  \\\\\n",
       "\\midrule\n",
       "\\textbf{Intercept}            &     3.14e+08  &     7.94e+07     &     3.953  &         0.000        &     1.58e+08    &      4.7e+08     \\\\\n",
       "\\textbf{mode[T.Minor]}        &   -1.408e+06  &        3e+07     &    -0.047  &         0.963        &    -6.04e+07    &     5.76e+07     \\\\\n",
       "\\textbf{key[T.A\\#]}           &    5.107e+07  &      7.1e+07     &     0.719  &         0.472        &    -8.84e+07    &     1.91e+08     \\\\\n",
       "\\textbf{key[T.B]}             &    8.547e+06  &     6.71e+07     &     0.127  &         0.899        &    -1.23e+08    &      1.4e+08     \\\\\n",
       "\\textbf{key[T.C\\#]}           &    5.469e+07  &     6.08e+07     &     0.900  &         0.368        &    -6.46e+07    &     1.74e+08     \\\\\n",
       "\\textbf{key[T.D]}             &   -6.542e+06  &     6.59e+07     &    -0.099  &         0.921        &    -1.36e+08    &     1.23e+08     \\\\\n",
       "\\textbf{key[T.D\\#]}           &    7.535e+06  &      8.5e+07     &     0.089  &         0.929        &    -1.59e+08    &     1.74e+08     \\\\\n",
       "\\textbf{key[T.E]}             &    4.992e+07  &     7.08e+07     &     0.705  &         0.481        &    -8.91e+07    &     1.89e+08     \\\\\n",
       "\\textbf{key[T.F]}             &    5.601e+07  &     6.38e+07     &     0.877  &         0.381        &    -6.93e+07    &     1.81e+08     \\\\\n",
       "\\textbf{key[T.F\\#]}           &     -4.1e+07  &     6.53e+07     &    -0.628  &         0.530        &    -1.69e+08    &     8.72e+07     \\\\\n",
       "\\textbf{key[T.G]}             &   -2.636e+07  &     6.11e+07     &    -0.431  &         0.666        &    -1.46e+08    &     9.36e+07     \\\\\n",
       "\\textbf{key[T.G\\#]}           &   -3.033e+07  &     6.29e+07     &    -0.482  &         0.630        &    -1.54e+08    &     9.32e+07     \\\\\n",
       "\\textbf{in\\_apple\\_playlists} &    5.053e+06  &     1.86e+05     &    27.211  &         0.000        &     4.69e+06    &     5.42e+06     \\\\\n",
       "\\textbf{danceability\\_pct}    &   -2.421e+06  &     9.89e+05     &    -2.448  &         0.015        &    -4.36e+06    &    -4.79e+05     \\\\\n",
       "\\bottomrule\n",
       "\\end{tabular}\n",
       "\\begin{tabular}{lclc}\n",
       "\\textbf{Omnibus:}       & 401.924 & \\textbf{  Durbin-Watson:     } &    1.936  \\\\\n",
       "\\textbf{Prob(Omnibus):} &   0.000 & \\textbf{  Jarque-Bera (JB):  } & 6635.344  \\\\\n",
       "\\textbf{Skew:}          &   2.434 & \\textbf{  Prob(JB):          } &     0.00  \\\\\n",
       "\\textbf{Kurtosis:}      &  17.851 & \\textbf{  Cond. No.          } & 1.26e+03  \\\\\n",
       "\\bottomrule\n",
       "\\end{tabular}\n",
       "%\\caption{OLS Regression Results}\n",
       "\\end{center}\n",
       "\n",
       "Notes: \\newline\n",
       " [1] Standard Errors assume that the covariance matrix of the errors is correctly specified. \\newline\n",
       " [2] The condition number is large, 1.26e+03. This might indicate that there are \\newline\n",
       " strong multicollinearity or other numerical problems."
      ],
      "text/plain": [
       "<class 'statsmodels.iolib.summary.Summary'>\n",
       "\"\"\"\n",
       "                            OLS Regression Results                            \n",
       "==============================================================================\n",
       "Dep. Variable:                streams   R-squared:                       0.549\n",
       "Model:                            OLS   Adj. R-squared:                  0.540\n",
       "Method:                 Least Squares   F-statistic:                     59.69\n",
       "Date:                Tue, 23 Apr 2024   Prob (F-statistic):          4.52e-101\n",
       "Time:                        00:35:42   Log-Likelihood:                -13753.\n",
       "No. Observations:                 652   AIC:                         2.753e+04\n",
       "Df Residuals:                     638   BIC:                         2.760e+04\n",
       "Df Model:                          13                                         \n",
       "Covariance Type:            nonrobust                                         \n",
       "======================================================================================\n",
       "                         coef    std err          t      P>|t|      [0.025      0.975]\n",
       "--------------------------------------------------------------------------------------\n",
       "Intercept            3.14e+08   7.94e+07      3.953      0.000    1.58e+08     4.7e+08\n",
       "mode[T.Minor]      -1.408e+06      3e+07     -0.047      0.963   -6.04e+07    5.76e+07\n",
       "key[T.A#]           5.107e+07    7.1e+07      0.719      0.472   -8.84e+07    1.91e+08\n",
       "key[T.B]            8.547e+06   6.71e+07      0.127      0.899   -1.23e+08     1.4e+08\n",
       "key[T.C#]           5.469e+07   6.08e+07      0.900      0.368   -6.46e+07    1.74e+08\n",
       "key[T.D]           -6.542e+06   6.59e+07     -0.099      0.921   -1.36e+08    1.23e+08\n",
       "key[T.D#]           7.535e+06    8.5e+07      0.089      0.929   -1.59e+08    1.74e+08\n",
       "key[T.E]            4.992e+07   7.08e+07      0.705      0.481   -8.91e+07    1.89e+08\n",
       "key[T.F]            5.601e+07   6.38e+07      0.877      0.381   -6.93e+07    1.81e+08\n",
       "key[T.F#]            -4.1e+07   6.53e+07     -0.628      0.530   -1.69e+08    8.72e+07\n",
       "key[T.G]           -2.636e+07   6.11e+07     -0.431      0.666   -1.46e+08    9.36e+07\n",
       "key[T.G#]          -3.033e+07   6.29e+07     -0.482      0.630   -1.54e+08    9.32e+07\n",
       "in_apple_playlists  5.053e+06   1.86e+05     27.211      0.000    4.69e+06    5.42e+06\n",
       "danceability_pct   -2.421e+06   9.89e+05     -2.448      0.015   -4.36e+06   -4.79e+05\n",
       "==============================================================================\n",
       "Omnibus:                      401.924   Durbin-Watson:                   1.936\n",
       "Prob(Omnibus):                  0.000   Jarque-Bera (JB):             6635.344\n",
       "Skew:                           2.434   Prob(JB):                         0.00\n",
       "Kurtosis:                      17.851   Cond. No.                     1.26e+03\n",
       "==============================================================================\n",
       "\n",
       "Notes:\n",
       "[1] Standard Errors assume that the covariance matrix of the errors is correctly specified.\n",
       "[2] The condition number is large, 1.26e+03. This might indicate that there are\n",
       "strong multicollinearity or other numerical problems.\n",
       "\"\"\""
      ]
     },
     "execution_count": 159,
     "metadata": {},
     "output_type": "execute_result"
    }
   ],
   "source": [
    "lin_reg = smf.ols('streams ~ mode + key + in_apple_playlists + danceability_pct', data = df_train).fit()\n",
    "lin_reg.summary()"
   ]
  },
  {
   "cell_type": "code",
   "execution_count": 160,
   "metadata": {},
   "outputs": [
    {
     "data": {
      "text/plain": [
       "key\n",
       "C#    115\n",
       "G      91\n",
       "F      87\n",
       "G#     85\n",
       "D      78\n",
       "B      77\n",
       "A      70\n",
       "F#     69\n",
       "E      59\n",
       "A#     55\n",
       "D#     30\n",
       "Name: count, dtype: int64"
      ]
     },
     "execution_count": 160,
     "metadata": {},
     "output_type": "execute_result"
    }
   ],
   "source": [
    "df['key'].value_counts()\n",
    "#We can see that baseline is A"
   ]
  },
  {
   "cell_type": "markdown",
   "metadata": {},
   "source": [
    "Linear Regression Equation for Model that Predicts Total Number of Streams Based on: mode, key, in_apple_playlists, and danceability_%\n",
    "\n",
    "Total streams predicted = 3.14e+08 - 1.408e+06 * minor +(5.107e+07 * A# key) + (8.547e+06 * B key) + (5.469e+07 * C# key_ + (-6.542e+06 * D key) + (7.535e+06 * D# key) + (4.992e+07 * E key) + (5.601e+07 * F key)+( - 4.1e+07 * F# key) +(-2.636e+07 * G key)+( - 3.033e+07 * G# key) + (5.053e+06 * in_apple_playlists) +(- 2.421e+06 * danceability_pct)"
   ]
  },
  {
   "cell_type": "markdown",
   "metadata": {},
   "source": [
    "For songs that are in the mode minor compared to songs that are in the mode major, the predicted average total number of streams for a song on Spotify decrease by 1.408+e06, on average, holding key, in_apple_playlists, and danceability_ constant. "
   ]
  },
  {
   "cell_type": "markdown",
   "metadata": {},
   "source": [
    "We are 95% confident that the true population slope for how the mode of the song (major or minor) affects the total number of streams for a song on Spotify is contained in the interval ( -6.04e+07 and 5.76e+07). "
   ]
  },
  {
   "cell_type": "code",
   "execution_count": 161,
   "metadata": {},
   "outputs": [
    {
     "data": {
      "image/png": "[encoded data removed]",
      "text/plain": [
       "<Figure size 640x480 with 1 Axes>"
      ]
     },
     "metadata": {},
     "output_type": "display_data"
    }
   ],
   "source": [
    "#Checking for linear regression conditions\n",
    "#residual plot\n",
    "y_pred_train = lin_reg.predict(df_train[['mode', 'in_apple_playlists', 'key', 'danceability_pct']])\n",
    "resid_train = df_train['streams'] - y_pred_train\n",
    "plt.scatter(y_pred_train, resid_train)\n",
    "plt.axhline(y=0, color = 'r', linestyle = '--')\n",
    "plt.xlabel('Fitted Predicted Values')\n",
    "plt.ylabel('Residuals')\n",
    "plt.title('Fitted values vs. Residuals Plot')\n",
    "plt.show()"
   ]
  },
  {
   "cell_type": "markdown",
   "metadata": {},
   "source": [
    "We assume independence because listening to one song does not mean that it affects the number of streams for the other. A person can listen to multiple songs, and many."
   ]
  },
  {
   "cell_type": "markdown",
   "metadata": {},
   "source": [
    "Looking at this residual plot, we can see a lot of clustering around the residual = 0 and fitted predicted values 0-1.0. If we were to section each region of this graph proportionally, we can see that the values are not distributed evenly. Therefore we will conclude that this model is not a good fit for linearity. We do not have equal variance because we do not have parallel scatter of residual values in our plot."
   ]
  },
  {
   "cell_type": "code",
   "execution_count": 162,
   "metadata": {},
   "outputs": [
    {
     "data": {
      "image/png": "[encoded data removed]",
      "text/plain": [
       "<Figure size 640x480 with 1 Axes>"
      ]
     },
     "execution_count": 162,
     "metadata": {},
     "output_type": "execute_result"
    },
    {
     "data": {
      "image/png": "[encoded data removed]",
      "text/plain": [
       "<Figure size 640x480 with 1 Axes>"
      ]
     },
     "metadata": {},
     "output_type": "display_data"
    }
   ],
   "source": [
    "import statsmodels.api as sm\n",
    "sm.qqplot(resid_train)"
   ]
  },
  {
   "cell_type": "markdown",
   "metadata": {},
   "source": [
    "We can see here from the qqplot, that the distribution of our residuals is approximately normal. The values line up fairly nicely to a semi-straight line."
   ]
  },
  {
   "cell_type": "code",
   "execution_count": 163,
   "metadata": {},
   "outputs": [
    {
     "data": {
      "text/html": [
       "<div>\n",
       "<style scoped>\n",
       "    .dataframe tbody tr th:only-of-type {\n",
       "        vertical-align: middle;\n",
       "    }\n",
       "\n",
       "    .dataframe tbody tr th {\n",
       "        vertical-align: top;\n",
       "    }\n",
       "\n",
       "    .dataframe thead th {\n",
       "        text-align: right;\n",
       "    }\n",
       "</style>\n",
       "<table border=\"1\" class=\"dataframe\">\n",
       "  <thead>\n",
       "    <tr style=\"text-align: right;\">\n",
       "      <th></th>\n",
       "      <th>in_apple_playlists</th>\n",
       "      <th>danceability_pct</th>\n",
       "    </tr>\n",
       "  </thead>\n",
       "  <tbody>\n",
       "    <tr>\n",
       "      <th>in_apple_playlists</th>\n",
       "      <td>1.000000</td>\n",
       "      <td>-0.010751</td>\n",
       "    </tr>\n",
       "    <tr>\n",
       "      <th>danceability_pct</th>\n",
       "      <td>-0.010751</td>\n",
       "      <td>1.000000</td>\n",
       "    </tr>\n",
       "  </tbody>\n",
       "</table>\n",
       "</div>"
      ],
      "text/plain": [
       "                    in_apple_playlists  danceability_pct\n",
       "in_apple_playlists            1.000000         -0.010751\n",
       "danceability_pct             -0.010751          1.000000"
      ]
     },
     "execution_count": 163,
     "metadata": {},
     "output_type": "execute_result"
    }
   ],
   "source": [
    "#multicollinearity between quant variables\n",
    "df_train[['in_apple_playlists', 'danceability_pct']].corr()"
   ]
  },
  {
   "cell_type": "markdown",
   "metadata": {},
   "source": [
    "Looking at this correlation matrix, it appears that there is no multicollinearity between our quantitative predictors due to the low correlation coefficient. This fulfills one of our conditions for linear regression."
   ]
  },
  {
   "cell_type": "markdown",
   "metadata": {},
   "source": [
    "With a R^2 value of 0.549, the percent of variability in total streams a song has on spotify is explained by this model in the training data is relatively high, meaning that the model explains a significant portion of the variability, but it is not extremely high. "
   ]
  },
  {
   "cell_type": "code",
   "execution_count": 164,
   "metadata": {},
   "outputs": [
    {
     "data": {
      "text/html": [
       "<div>\n",
       "<style scoped>\n",
       "    .dataframe tbody tr th:only-of-type {\n",
       "        vertical-align: middle;\n",
       "    }\n",
       "\n",
       "    .dataframe tbody tr th {\n",
       "        vertical-align: top;\n",
       "    }\n",
       "\n",
       "    .dataframe thead th {\n",
       "        text-align: right;\n",
       "    }\n",
       "</style>\n",
       "<table border=\"1\" class=\"dataframe\">\n",
       "  <thead>\n",
       "    <tr style=\"text-align: right;\">\n",
       "      <th></th>\n",
       "      <th>track_name</th>\n",
       "      <th>artist(s)_name</th>\n",
       "      <th>artist_count</th>\n",
       "      <th>released_year</th>\n",
       "      <th>released_month</th>\n",
       "      <th>released_day</th>\n",
       "      <th>in_spotify_playlists</th>\n",
       "      <th>in_spotify_charts</th>\n",
       "      <th>streams</th>\n",
       "      <th>in_apple_playlists</th>\n",
       "      <th>...</th>\n",
       "      <th>bpm</th>\n",
       "      <th>key</th>\n",
       "      <th>mode</th>\n",
       "      <th>danceability_pct</th>\n",
       "      <th>valence_pct</th>\n",
       "      <th>energy_pct</th>\n",
       "      <th>acousticness_pct</th>\n",
       "      <th>instrumentalness_pct</th>\n",
       "      <th>liveness_pct</th>\n",
       "      <th>speechiness_pct</th>\n",
       "    </tr>\n",
       "  </thead>\n",
       "  <tbody>\n",
       "    <tr>\n",
       "      <th>0</th>\n",
       "      <td>Seven (feat. Latto) (Explicit Ver.)</td>\n",
       "      <td>Latto, Jung Kook</td>\n",
       "      <td>2</td>\n",
       "      <td>2023</td>\n",
       "      <td>7</td>\n",
       "      <td>14</td>\n",
       "      <td>553</td>\n",
       "      <td>147</td>\n",
       "      <td>141381703</td>\n",
       "      <td>43</td>\n",
       "      <td>...</td>\n",
       "      <td>125</td>\n",
       "      <td>B</td>\n",
       "      <td>Major</td>\n",
       "      <td>80</td>\n",
       "      <td>89</td>\n",
       "      <td>83</td>\n",
       "      <td>31</td>\n",
       "      <td>0</td>\n",
       "      <td>8</td>\n",
       "      <td>4</td>\n",
       "    </tr>\n",
       "  </tbody>\n",
       "</table>\n",
       "<p>1 rows × 24 columns</p>\n",
       "</div>"
      ],
      "text/plain": [
       "                            track_name    artist(s)_name  artist_count  \\\n",
       "0  Seven (feat. Latto) (Explicit Ver.)  Latto, Jung Kook             2   \n",
       "\n",
       "   released_year  released_month  released_day  in_spotify_playlists  \\\n",
       "0           2023               7            14                   553   \n",
       "\n",
       "   in_spotify_charts    streams  in_apple_playlists  ...  bpm key   mode  \\\n",
       "0                147  141381703                  43  ...  125   B  Major   \n",
       "\n",
       "  danceability_pct  valence_pct energy_pct acousticness_pct  \\\n",
       "0               80           89         83               31   \n",
       "\n",
       "   instrumentalness_pct  liveness_pct  speechiness_pct  \n",
       "0                     0             8                4  \n",
       "\n",
       "[1 rows x 24 columns]"
      ]
     },
     "execution_count": 164,
     "metadata": {},
     "output_type": "execute_result"
    }
   ],
   "source": [
    "observation = df[df['track_name'] == 'Seven (feat. Latto) (Explicit Ver.)']\n",
    "observation"
   ]
  },
  {
   "cell_type": "code",
   "execution_count": 165,
   "metadata": {},
   "outputs": [
    {
     "data": {
      "text/plain": [
       "0    43\n",
       "Name: in_apple_playlists, dtype: int64"
      ]
     },
     "execution_count": 165,
     "metadata": {},
     "output_type": "execute_result"
    }
   ],
   "source": [
    "observation['in_apple_playlists']"
   ]
  },
  {
   "cell_type": "code",
   "execution_count": 166,
   "metadata": {},
   "outputs": [
    {
     "data": {
      "text/plain": [
       "-204764297.0"
      ]
     },
     "execution_count": 166,
     "metadata": {},
     "output_type": "execute_result"
    }
   ],
   "source": [
    "predicted_value = 3.14e+08 + 0 + 8.547e+06\t+ (43 * 5.053e+06) + (80 * -2.421e+06)\n",
    "residual = 141381703 - predicted_value\n",
    "residual"
   ]
  },
  {
   "cell_type": "code",
   "execution_count": 167,
   "metadata": {},
   "outputs": [
    {
     "data": {
      "text/plain": [
       "array(['F', 'A', 'C#', 'G', 'F#', 'A#', 'G#', 'E', 'D', 'B', 'D#'],\n",
       "      dtype=object)"
      ]
     },
     "execution_count": 167,
     "metadata": {},
     "output_type": "execute_result"
    }
   ],
   "source": [
    "df_train['key'].unique()"
   ]
  },
  {
   "cell_type": "code",
   "execution_count": 168,
   "metadata": {},
   "outputs": [
    {
     "data": {
      "text/plain": [
       "350423589.31288344"
      ]
     },
     "execution_count": 168,
     "metadata": {},
     "output_type": "execute_result"
    }
   ],
   "source": [
    "from sklearn.metrics import mean_squared_error\n",
    "y_pred_train = lin_reg.predict(df_train[['streams', 'mode', 'key', 'in_apple_playlists', 'danceability_pct']])\n",
    "rmse_train = mean_squared_error(df_train['streams'], y_pred_train , squared = False)\n",
    "rmse_train"
   ]
  },
  {
   "cell_type": "code",
   "execution_count": 169,
   "metadata": {},
   "outputs": [
    {
     "data": {
      "text/plain": [
       "350809406.4536591"
      ]
     },
     "execution_count": 169,
     "metadata": {},
     "output_type": "execute_result"
    }
   ],
   "source": [
    "from sklearn.metrics import mean_squared_error\n",
    "y_pred = lin_reg.predict(df_test[['streams', 'mode', 'key', 'in_apple_playlists', 'danceability_pct']])\n",
    "rmse_test = mean_squared_error(df_test['streams'], y_pred, squared = False)\n",
    "rmse_test"
   ]
  },
  {
   "cell_type": "markdown",
   "metadata": {},
   "source": [
    "The typical size of the residual associated with this model for the training data is 350423589.31288344 streams. This is an estimate for how far an observation falls from its predicted value using the model. This estimate falls very far from our actual observation. \n",
    "\n",
    "Roughly, the typical size of the residual associated with this model for the testing data is 350809406.4536591   stream This estimate, very close to the training data's RMSE, is also very high and falls very far from our actual observation.. "
   ]
  },
  {
   "cell_type": "markdown",
   "metadata": {},
   "source": [
    "Approach taken: \n",
    "\n",
    "The research question that we would like to answer is if there is a relationship between number of total streams on Spotify (response variable) and mode (major/minor), after controlling for key, in_apple_playlists, and danceability_%. We also wanted to know how well this model can predict the number of total streams on new data (test data). \n",
    "\n",
    "We actually had to do a bit of cleaning with my response variable in order to fit it in our model with the training data. Looking at the data's variable types using the dtypes attribute, the response variable 'streams' was actually an object type. We then converted it into an integer. After that, we split 80% of the dataset into training data and 20% of it to testing data.\n",
    "\n",
    "Creating my linear regression was much easier now with this integer type response variable. We created a model for total streams predicted = 3.14e+08 - 1.408e+06 * minor +(5.107e+07 * A# key) + (8.547e+06 * B key) + (5.469e+07 * C# key_ + (-6.542e+06 * D key) + (7.535e+06 * D# key) + (4.992e+07 * E key) + (5.601e+07 * F key)+( - 4.1e+07 * F# key) +(-2.636e+07 * G key)+( - 3.033e+07 * G# key) + (5.053e+06 * in_apple_playlists) +(- 2.421e+06 * danceability_pct). \n",
    "\n",
    "We then derived a few interpretations and evaluations from this model summary. We found that the selected slope coefficient that described our two variables of interest (predicted number of streams and mode) was 1.408+e06. For a 95% confidence interval (also included in the model summary), we interpreted that we are 95% confident that the true population slope for how the mode of the song (major or minor) affects the total number of streams for a song on Spotify is contained in the interval ( -6.04e+07 and 5.76e+07). \n",
    "\n",
    "In regards to checking all linear regression conditions, the residual plot suggests that this model does not fit well. There is a lot of clustering in one area, which should not how a properly fitted model's residual plot should look like. \n",
    "\n",
    "Looking back at our model summary, we identified this model to have a R^2 value of 0.549, meaning that the the percent of variability in total streams a song has on Spotify is explained by this model in the training data is moderate to moderately high. \r\n",
    "To test how well this model could predict data, we picked an observation (Seven by Jungkook) and calculated the residual. We were off by a large amount, -204764297.0. This means that our predicted value was 204764297.0 higher than our actual stream value.\n",
    "\n",
    "When calculating the RMSE of both the training and testing data, we also found an extremely large number of around 350809000 streams. This means that our estimate for this model for an observation falls very far from its actual value. This suggests that this model may not be the best fit for our data/what we're trying to predict. \r\n",
    "\n"
   ]
  },
  {
   "cell_type": "markdown",
   "metadata": {},
   "source": [
    "## 3. Logistic Regression Analytical Tasks"
   ]
  },
  {
   "cell_type": "markdown",
   "metadata": {},
   "source": [
    "Research Question: Is there a linear relationship between the log-odds of the songs’ mode and danceability_%, valence_%, and energy_% in the sample? How does a classifier built on this model perform on new data? We will consider 1 as Major, 0 as Minor."
   ]
  },
  {
   "cell_type": "code",
   "execution_count": 170,
   "metadata": {},
   "outputs": [
    {
     "data": {
      "text/plain": [
       "mode\n",
       "1    358\n",
       "0    294\n",
       "Name: count, dtype: int64"
      ]
     },
     "execution_count": 170,
     "metadata": {},
     "output_type": "execute_result"
    }
   ],
   "source": [
    "df_train['mode']=(df_train['mode']=='Major').astype(int)\n",
    "df_train['mode'].value_counts()"
   ]
  },
  {
   "cell_type": "code",
   "execution_count": 171,
   "metadata": {},
   "outputs": [
    {
     "name": "stdout",
     "output_type": "stream",
     "text": [
      "Optimization terminated successfully.\n",
      "         Current function value: 0.669897\n",
      "         Iterations 5\n"
     ]
    },
    {
     "data": {
      "text/html": [
       "<table class=\"simpletable\">\n",
       "<caption>Logit Regression Results</caption>\n",
       "<tr>\n",
       "  <th>Dep. Variable:</th>         <td>mode</td>       <th>  No. Observations:  </th>  <td>   652</td>  \n",
       "</tr>\n",
       "<tr>\n",
       "  <th>Model:</th>                 <td>Logit</td>      <th>  Df Residuals:      </th>  <td>   648</td>  \n",
       "</tr>\n",
       "<tr>\n",
       "  <th>Method:</th>                 <td>MLE</td>       <th>  Df Model:          </th>  <td>     3</td>  \n",
       "</tr>\n",
       "<tr>\n",
       "  <th>Date:</th>            <td>Tue, 23 Apr 2024</td> <th>  Pseudo R-squ.:     </th>  <td>0.02677</td> \n",
       "</tr>\n",
       "<tr>\n",
       "  <th>Time:</th>                <td>00:35:44</td>     <th>  Log-Likelihood:    </th> <td> -436.77</td> \n",
       "</tr>\n",
       "<tr>\n",
       "  <th>converged:</th>             <td>True</td>       <th>  LL-Null:           </th> <td> -448.79</td> \n",
       "</tr>\n",
       "<tr>\n",
       "  <th>Covariance Type:</th>     <td>nonrobust</td>    <th>  LLR p-value:       </th> <td>2.468e-05</td>\n",
       "</tr>\n",
       "</table>\n",
       "<table class=\"simpletable\">\n",
       "<tr>\n",
       "          <td></td>            <th>coef</th>     <th>std err</th>      <th>z</th>      <th>P>|z|</th>  <th>[0.025</th>    <th>0.975]</th>  \n",
       "</tr>\n",
       "<tr>\n",
       "  <th>Intercept</th>        <td>    2.3756</td> <td>    0.501</td> <td>    4.743</td> <td> 0.000</td> <td>    1.394</td> <td>    3.357</td>\n",
       "</tr>\n",
       "<tr>\n",
       "  <th>danceability_pct</th> <td>   -0.0247</td> <td>    0.006</td> <td>   -4.006</td> <td> 0.000</td> <td>   -0.037</td> <td>   -0.013</td>\n",
       "</tr>\n",
       "<tr>\n",
       "  <th>valence_pct</th>      <td>   -0.0013</td> <td>    0.004</td> <td>   -0.325</td> <td> 0.745</td> <td>   -0.009</td> <td>    0.006</td>\n",
       "</tr>\n",
       "<tr>\n",
       "  <th>energy_pct</th>       <td>   -0.0067</td> <td>    0.005</td> <td>   -1.235</td> <td> 0.217</td> <td>   -0.017</td> <td>    0.004</td>\n",
       "</tr>\n",
       "</table>"
      ],
      "text/latex": [
       "\\begin{center}\n",
       "\\begin{tabular}{lclc}\n",
       "\\toprule\n",
       "\\textbf{Dep. Variable:}    &       mode       & \\textbf{  No. Observations:  } &      652    \\\\\n",
       "\\textbf{Model:}            &      Logit       & \\textbf{  Df Residuals:      } &      648    \\\\\n",
       "\\textbf{Method:}           &       MLE        & \\textbf{  Df Model:          } &        3    \\\\\n",
       "\\textbf{Date:}             & Tue, 23 Apr 2024 & \\textbf{  Pseudo R-squ.:     } &  0.02677    \\\\\n",
       "\\textbf{Time:}             &     00:35:44     & \\textbf{  Log-Likelihood:    } &   -436.77   \\\\\n",
       "\\textbf{converged:}        &       True       & \\textbf{  LL-Null:           } &   -448.79   \\\\\n",
       "\\textbf{Covariance Type:}  &    nonrobust     & \\textbf{  LLR p-value:       } & 2.468e-05   \\\\\n",
       "\\bottomrule\n",
       "\\end{tabular}\n",
       "\\begin{tabular}{lcccccc}\n",
       "                           & \\textbf{coef} & \\textbf{std err} & \\textbf{z} & \\textbf{P$> |$z$|$} & \\textbf{[0.025} & \\textbf{0.975]}  \\\\\n",
       "\\midrule\n",
       "\\textbf{Intercept}         &       2.3756  &        0.501     &     4.743  &         0.000        &        1.394    &        3.357     \\\\\n",
       "\\textbf{danceability\\_pct} &      -0.0247  &        0.006     &    -4.006  &         0.000        &       -0.037    &       -0.013     \\\\\n",
       "\\textbf{valence\\_pct}      &      -0.0013  &        0.004     &    -0.325  &         0.745        &       -0.009    &        0.006     \\\\\n",
       "\\textbf{energy\\_pct}       &      -0.0067  &        0.005     &    -1.235  &         0.217        &       -0.017    &        0.004     \\\\\n",
       "\\bottomrule\n",
       "\\end{tabular}\n",
       "%\\caption{Logit Regression Results}\n",
       "\\end{center}"
      ],
      "text/plain": [
       "<class 'statsmodels.iolib.summary.Summary'>\n",
       "\"\"\"\n",
       "                           Logit Regression Results                           \n",
       "==============================================================================\n",
       "Dep. Variable:                   mode   No. Observations:                  652\n",
       "Model:                          Logit   Df Residuals:                      648\n",
       "Method:                           MLE   Df Model:                            3\n",
       "Date:                Tue, 23 Apr 2024   Pseudo R-squ.:                 0.02677\n",
       "Time:                        00:35:44   Log-Likelihood:                -436.77\n",
       "converged:                       True   LL-Null:                       -448.79\n",
       "Covariance Type:            nonrobust   LLR p-value:                 2.468e-05\n",
       "====================================================================================\n",
       "                       coef    std err          z      P>|z|      [0.025      0.975]\n",
       "------------------------------------------------------------------------------------\n",
       "Intercept            2.3756      0.501      4.743      0.000       1.394       3.357\n",
       "danceability_pct    -0.0247      0.006     -4.006      0.000      -0.037      -0.013\n",
       "valence_pct         -0.0013      0.004     -0.325      0.745      -0.009       0.006\n",
       "energy_pct          -0.0067      0.005     -1.235      0.217      -0.017       0.004\n",
       "====================================================================================\n",
       "\"\"\""
      ]
     },
     "execution_count": 171,
     "metadata": {},
     "output_type": "execute_result"
    }
   ],
   "source": [
    "log_reg = smf.logit(\"mode ~ danceability_pct + \tvalence_pct + energy_pct\", data=df_train).fit()\n",
    "log_reg.summary()"
   ]
  },
  {
   "cell_type": "markdown",
   "metadata": {},
   "source": [
    "A lower danceability_pct, a higher valence_pct, and lower energy_pct would be associated with a higher probability of success. With the coefficients for danceability_pct and valence_pct being negative, the higher those values are, the lower the probability gets. Hence, having lower values for explanatory variables that have negative coefficients and having higher values for explanatory variables that have positive coefficients would yield a higher probability of success. "
   ]
  },
  {
   "cell_type": "code",
   "execution_count": 172,
   "metadata": {},
   "outputs": [
    {
     "data": {
      "text/plain": [
       "0.6027296393417703"
      ]
     },
     "execution_count": 172,
     "metadata": {},
     "output_type": "execute_result"
    }
   ],
   "source": [
    "from sklearn.metrics import roc_auc_score\n",
    "\n",
    "df_train['pred_prob'] = log_reg.predict(df_train)\n",
    "auc = roc_auc_score(y_true=df_train['mode'], y_score=df_train['pred_prob'])\n",
    "auc"
   ]
  },
  {
   "cell_type": "code",
   "execution_count": 173,
   "metadata": {},
   "outputs": [
    {
     "data": {
      "image/png": "[encoded data removed]",
      "text/plain": [
       "<Figure size 640x480 with 1 Axes>"
      ]
     },
     "metadata": {},
     "output_type": "display_data"
    }
   ],
   "source": [
    "from sklearn.metrics import roc_curve\n",
    "fprs, tprs, thresholds = roc_curve(y_true=df_train['mode'], y_score=df_train['pred_prob'])\n",
    "pd.DataFrame({'fpr': fprs, 'tpr': tprs})\n",
    "\n",
    "def plot_roc(fpr, tpr, auc, lw=2):\n",
    "    plt.plot(fpr, tpr, color='darkorange', lw=lw,\n",
    "             label='ROC curve (area = '+str(round(auc,3))+')')\n",
    "    plt.plot([0, 1], [0, 1], color='navy', lw=lw, linestyle='--')\n",
    "    plt.xlabel('False Positive Rate')\n",
    "    plt.ylabel('True Positive Rate')\n",
    "    plt.title('ROC Curve')\n",
    "    plt.legend(loc=\"lower right\")\n",
    "    plt.show()\n",
    "\n",
    "plot_roc(fprs, tprs, auc)"
   ]
  },
  {
   "cell_type": "markdown",
   "metadata": {},
   "source": [
    "The Pseudo R^2 value is 0.02677 and the AUC is 0.603. The Psuedo R^2 value being 0.02677 would indicate that the strength of the model is low, as that value represents how the model explains the variability in the response variables. With a Psuedo R^2 value of 0 indicating the model does not explain any of the variability in the response variable and 1 indicates a perfect fit, the strength of the model is pretty low. To have a strong logistic regression model with good predictive power, there needs to be a high pseudo R^2 and high AUC. "
   ]
  },
  {
   "cell_type": "code",
   "execution_count": 174,
   "metadata": {},
   "outputs": [
    {
     "data": {
      "text/plain": [
       "array([[128, 166],\n",
       "       [104, 254]], dtype=int64)"
      ]
     },
     "execution_count": 174,
     "metadata": {},
     "output_type": "execute_result"
    }
   ],
   "source": [
    "from sklearn.metrics import confusion_matrix\n",
    "\n",
    "df_train['pred_classifier'] = (df_train['pred_prob'] > 0.5).astype(int)\n",
    "\n",
    "cm = confusion_matrix(y_true=df_train['mode'], y_pred=df_train['pred_classifier'])\n",
    "cm"
   ]
  },
  {
   "cell_type": "markdown",
   "metadata": {},
   "source": [
    "We chose 0.5 as the threshold as, on the ROC curve, that’s the point with the most distance. Additionally. since both false positive and false negative have no significant impact, the threshold value is unimportant and could have been chosen arbitrarily."
   ]
  },
  {
   "cell_type": "code",
   "execution_count": 175,
   "metadata": {},
   "outputs": [
    {
     "data": {
      "text/plain": [
       "(128, 166, 104, 254)"
      ]
     },
     "execution_count": 175,
     "metadata": {},
     "output_type": "execute_result"
    }
   ],
   "source": [
    "tn, fp, fn, tp = confusion_matrix(y_true=df_train['mode'], y_pred=df_train['pred_classifier']).ravel()\n",
    "(tn, fp, fn, tp)"
   ]
  },
  {
   "cell_type": "markdown",
   "metadata": {},
   "source": [
    "We want to minimize false positives because in the data regarding the amount of false positives or negatives, there is a significantly larger number of false positives while a good model would have a similar amount of false positives and negatives. Thus, we would want to minimize false positives to achieve this. In this case, a false positive would be the model telling us the song’s mode is major while it is actually minor."
   ]
  },
  {
   "cell_type": "code",
   "execution_count": 176,
   "metadata": {},
   "outputs": [
    {
     "name": "stdout",
     "output_type": "stream",
     "text": [
      "0.5858895705521472 0.7094972067039106 0.43537414965986393\n"
     ]
    }
   ],
   "source": [
    "accuracy = (tp + tn) / (tp + tn + fp + fn)\n",
    "\n",
    "sensitivity = tp / (tp + fn)\n",
    "\n",
    "specificity = tn / (tn + fp)\n",
    "\n",
    "print( accuracy, sensitivity, specificity)"
   ]
  },
  {
   "cell_type": "markdown",
   "metadata": {},
   "source": [
    "Since we expect false positive and negative to be about equal and there is a lot more false positives 166 than false negatives 104, we want to minimize false positive. That means we want to decrease specificity and increase the predictive probability threshold. Because the specificity is quite low 0.43537414965986393, we are generally satisfied with the performance of our current classifier."
   ]
  },
  {
   "cell_type": "markdown",
   "metadata": {},
   "source": [
    "We wanted to answer whether or not there is a linear relationship between the log-odds of the songs’ mode and danceability_%, valence_%, and energy_% in the sample?  We consider 1 as Major, 0 as minor. We did df['mode']=(df['mode']=='Major').astype(int) to set Major as 1 and minor as 0. \n",
    "\n",
    "We used the training data and fit a logistic regression model to predict the log odds of mode using danceability, valence, and energy. . \r\n"
   ]
  },
  {
   "cell_type": "markdown",
   "metadata": {},
   "source": [
    "The Pseudo R^2 value, at 0.02677, shows that the model's strength is weak. This number tells us how much the model can explain about the data. When the value is 0, it means the model doesn't explain anything, and when it's 1, it means the model is perfect. So, our model's ability to explain things is quite limited."
   ]
  },
  {
   "cell_type": "markdown",
   "metadata": {},
   "source": [
    " We then plotted a ROC Curve to pick a predictive probability threshold and AUC which is 0.603. The threshold is chosen at the point on the ROC curve where the distance from the top-left corner (0, 1) is maximized. In this case, it's 0.5."
   ]
  },
  {
   "cell_type": "markdown",
   "metadata": {},
   "source": [
    "For a good logistic regression model that can predict well, we want both the Pseudo R^2 and AUC values to be high. These numbers tell us how well the model fits the data and how good it is at distinguishing between different groups in the data."
   ]
  },
  {
   "cell_type": "markdown",
   "metadata": {},
   "source": [
    "We also looked into the performance of the classifier. Since the false positives significantly outnumber false negatives, it shows we should have the threshold to be changed to reduce false positives. The classifier that we used is quite good as it reduces false positives."
   ]
  },
  {
   "cell_type": "code",
   "execution_count": 177,
   "metadata": {},
   "outputs": [
    {
     "data": {
      "text/plain": [
       "Text(0.5, 1.0, 'Plot fitted predicted prob vs deviance')"
      ]
     },
     "execution_count": 177,
     "metadata": {},
     "output_type": "execute_result"
    },
    {
     "data": {
      "image/png": "[encoded data removed]",
      "text/plain": [
       "<Figure size 640x480 with 1 Axes>"
      ]
     },
     "metadata": {},
     "output_type": "display_data"
    }
   ],
   "source": [
    "sns.regplot(data=df, x= log_reg.fittedvalues, y=log_reg.resid_dev, lowess = True)\n",
    "plt.xlabel('Predicted prob')\n",
    "plt.ylabel('Deviance')\n",
    "plt.title(\"Plot fitted predicted prob vs deviance\")"
   ]
  },
  {
   "cell_type": "markdown",
   "metadata": {
    "jp-MarkdownHeadingCollapsed": true
   },
   "source": [
    "## Any other type of analysis/question you want to explore with this dataset.\n",
    "\n",
    "<u>Why?</u>: Sometimes undergraduate students will put the research projects that they did for their classes on their resumes when applying for graduate schools, internships, and jobs. If you're interested in showcasing cool analyses to write on your resume, this section could help with that. **(This section is not worth any points though).**"
   ]
  },
  {
   "cell_type": "code",
   "execution_count": null,
   "metadata": {},
   "outputs": [],
   "source": []
  },
  {
   "cell_type": "code",
   "execution_count": null,
   "metadata": {},
   "outputs": [],
   "source": []
  },
  {
   "cell_type": "code",
   "execution_count": null,
   "metadata": {},
   "outputs": [],
   "source": []
  },
  {
   "cell_type": "code",
   "execution_count": null,
   "metadata": {},
   "outputs": [],
   "source": []
  },
  {
   "cell_type": "code",
   "execution_count": null,
   "metadata": {},
   "outputs": [],
   "source": []
  },
  {
   "cell_type": "code",
   "execution_count": null,
   "metadata": {},
   "outputs": [],
   "source": []
  },
  {
   "cell_type": "code",
   "execution_count": null,
   "metadata": {},
   "outputs": [],
   "source": []
  },
  {
   "cell_type": "code",
   "execution_count": null,
   "metadata": {},
   "outputs": [],
   "source": []
  },
  {
   "cell_type": "code",
   "execution_count": null,
   "metadata": {},
   "outputs": [],
   "source": []
  },
  {
   "cell_type": "markdown",
   "metadata": {},
   "source": [
    "## 4. Conclusion"
   ]
  },
  {
   "cell_type": "markdown",
   "metadata": {},
   "source": [
    "Summarizing Linear Regression Analysis:\n",
    "\n",
    "We wanted to determine if there was a linear relationship between number of total streams on Spotify (response variable) and mode (major/minor), after controlling for key, in_apple_playlists, and danceability_% and if the data that we trained for this model was good at predicting the number of total streams on new data. The R^2 value for this model was moderately strong, but still did not account for as much variability as we typically would have wanted. The RMSE for both the training and testing data was very high at around 350,000,000 streams. Also considering how the residuals plot looked (lots of clustering instead of proportional scatter), both the RMSE and residual plot suggest that this model was not the best fit for the data we used to predict the total number of streams a song on Spotify had. "
   ]
  },
  {
   "cell_type": "markdown",
   "metadata": {},
   "source": [
    "Summarizing Logistic Regression Analysis:\n",
    "\n",
    "We examined whether a linear relationship exists between the log odds of song mode and danceability, valence, and energy. Major mode was encoded as 1 and minor as 0. The resulting Pseudo R^2 value suggests weak model strength, indicating limited explanatory power. The ROC Curve, yielding an AUC of 0.603, aided in selecting a predictive probability threshold of 0.5.\r\n",
    "\r\n",
    "Performance evaluation revealed a notable surplus of false positives, signaling the necessity of adjusting the threshold to mitigate them. Despite this, the classifier demonstrated efficacy in reducing false positives, indicating its utilit\n",
    "y.\r\n",
    "We generated a fitted vs residual plot and because the line is not as flat as it could be, this model is not the best for examining a linear relationship between the log-odds of the songs’ mode and danceability, valence, and energy. Generally, a good model would create a flat line for the fitted vs residual plt.\r\n"
   ]
  },
  {
   "cell_type": "markdown",
   "metadata": {},
   "source": [
    "Some limitations we faced when working on this project was creating proper variable types for our response variables. For linear regression, we saw that the response variable for streams was not the expected integer type. Therefore, we had to transform this via code. For logistic regression, we had to change the categorical response variable into one that was binary. Unfortunately, the dataset was not as cleaned up as we liked so we had to look into each individual row and see what values were missing or unusual. \n",
    "\n",
    "Also, because we only know how to fit a linear/logistic regression model, we are not sure if either of these are the best for analyzing/predicting the data. If we knew how to fit other models, we could compare those and see which one seems best out of more options."
   ]
  },
  {
   "cell_type": "markdown",
   "metadata": {},
   "source": [
    "For future work:\n",
    "\n",
    "We might want to see if there is a better model to fit for predicting total number of streams on Spotify for a certain song because we saw that our linear regression model was not the best fit when analyzing if the model fit the linear regression conditions. \n",
    "\n",
    "A future researcher could expand the dataset more to compare with Spotify’s competing platforms that are outside of the ones included, such as Pandora, Soundcloud, or iHeartRadio. They could possibly compare the listening relationship with certain genres of songs amongst the different platform using number of total streams for a certain song."
   ]
  }
 ],
 "metadata": {
  "kernelspec": {
   "display_name": "Python 3 (ipykernel)",
   "language": "python",
   "name": "python3"
  },
  "language_info": {
   "codemirror_mode": {
    "name": "ipython",
    "version": 3
   },
   "file_extension": ".py",
   "mimetype": "text/x-python",
   "name": "python",
   "nbconvert_exporter": "python",
   "pygments_lexer": "ipython3",
   "version": "3.11.5"
  }
 },
 "nbformat": 4,
 "nbformat_minor": 4
}
